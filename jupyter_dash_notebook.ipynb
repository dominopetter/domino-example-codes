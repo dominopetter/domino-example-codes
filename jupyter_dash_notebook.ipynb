{
 "cells": [
  {
   "cell_type": "code",
   "execution_count": 1,
   "metadata": {},
   "outputs": [],
   "source": [
    "from jupyter_dash.comms import _send_jupyter_config_comm_request\n",
    "_send_jupyter_config_comm_request()"
   ]
  },
  {
   "cell_type": "code",
   "execution_count": 2,
   "metadata": {},
   "outputs": [],
   "source": [
    "import plotly.express as px\n",
    "from jupyter_dash import JupyterDash\n",
    "import dash_core_components as dcc\n",
    "import dash_html_components as html\n",
    "from dash.dependencies import Input, Output\n",
    "import os"
   ]
  },
  {
   "cell_type": "code",
   "execution_count": 3,
   "metadata": {},
   "outputs": [],
   "source": [
    "# Load Data\n",
    "df = px.data.tips()\n",
    "\n",
    "# Build App\n",
    "# VERY IMPORTANT NOT USE JupyterDash(__name__)\n",
    "app = JupyterDash()"
   ]
  },
  {
   "cell_type": "code",
   "execution_count": 4,
   "metadata": {},
   "outputs": [],
   "source": [
    "# Configure Dash to recognize the URL of the container\n",
    "user = os.environ.get(\"DOMINO_PROJECT_OWNER\")\n",
    "project = os.environ.get(\"DOMINO_PROJECT_NAME\")\n",
    "runid = os.environ.get(\"DOMINO_RUN_ID\")\n",
    "runurl = '/' + user + '/' + project + '/notebookSession/'+ runid + '/'\n",
    "app.config.update({\n",
    "'routes_pathname_prefix': runurl,\n",
    "'requests_pathname_prefix': runurl\n",
    "})\n",
    "app.layout = html.Div([\n",
    "html.H1(\"JupyterDash Demo\"),\n",
    "dcc.Graph(id='graph'),\n",
    "html.Label([\n",
    "\"colorscale\",\n",
    "dcc.Dropdown(\n",
    "id='colorscale-dropdown', clearable=False,\n",
    "value='plasma', options=[\n",
    "{'label': c, 'value': c}\n",
    "for c in px.colors.named_colorscales()\n",
    "])\n",
    "]),\n",
    "])"
   ]
  },
  {
   "cell_type": "code",
   "execution_count": 7,
   "metadata": {},
   "outputs": [],
   "source": [
    "# Define callback to update graph\n",
    "@app.callback(\n",
    "Output('graph', 'figure'),\n",
    "[Input(\"colorscale-dropdown\", \"value\")]\n",
    ")\n",
    "def update_figure(colorscale):\n",
    "    return px.scatter(\n",
    "df, x=\"total_bill\", y=\"tip\", color=\"size\",\n",
    "color_continuous_scale=colorscale,\n",
    "render_mode=\"webgl\", title=\"Tips\"\n",
    ")"
   ]
  },
  {
   "cell_type": "code",
   "execution_count": 8,
   "metadata": {},
   "outputs": [
    {
     "data": {
      "text/html": [
       "\n",
       "        <iframe\n",
       "            width=\"100%\"\n",
       "            height=\"650\"\n",
       "            src=\"https://gracie247852.support-team-sandbox.domino.tech/dominopetter/quick-start/notebookSession/6061a18d99a02d36058e2f5a/proxy/8053/\"\n",
       "            frameborder=\"0\"\n",
       "            allowfullscreen\n",
       "        ></iframe>\n",
       "        "
      ],
      "text/plain": [
       "<IPython.lib.display.IFrame at 0x7f7257f6d340>"
      ]
     },
     "metadata": {},
     "output_type": "display_data"
    }
   ],
   "source": [
    "app.run_server(port=8053, host='0.0.0.0', mode='inline', debug=True)"
   ]
  },
  {
   "cell_type": "code",
   "execution_count": null,
   "metadata": {},
   "outputs": [],
   "source": []
  }
 ],
 "metadata": {
  "kernelspec": {
   "display_name": "Python 3",
   "language": "python",
   "name": "python3"
  },
  "language_info": {
   "codemirror_mode": {
    "name": "ipython",
    "version": 3
   },
   "file_extension": ".py",
   "mimetype": "text/x-python",
   "name": "python",
   "nbconvert_exporter": "python",
   "pygments_lexer": "ipython3",
   "version": "3.8.5"
  }
 },
 "nbformat": 4,
 "nbformat_minor": 4
}
